{
 "cells": [
  {
   "cell_type": "code",
   "execution_count": 7,
   "metadata": {},
   "outputs": [],
   "source": [
    "#NOTE: SUPPRESSES WARNINGS!\n",
    "\n",
    "import warnings\n",
    "\n",
    "warnings.simplefilter(action=\"ignore\", category=RuntimeWarning)\n",
    "#warnings.simplefilter(action=\"default\", category=RuntimeWarning)\n"
   ]
  },
  {
   "cell_type": "code",
   "execution_count": 13,
   "metadata": {},
   "outputs": [],
   "source": [
    "#import relevant libraries\n",
    "import sys\n",
    "import os\n",
    "import glob\n",
    "\n",
    "import numpy as np\n",
    "import scipy as sp\n",
    "import pandas as pd\n",
    "import matplotlib as mpl\n",
    "import seaborn as sns\n",
    "import datetime as dt\n",
    "import shutil\n",
    "import osar"
   ]
  },
  {
   "cell_type": "code",
   "execution_count": 14,
   "metadata": {},
   "outputs": [
    {
     "data": {
      "text/plain": [
       "'0.23.6'"
      ]
     },
     "execution_count": 14,
     "metadata": {},
     "output_type": "execute_result"
    }
   ],
   "source": [
    "osar.__version__"
   ]
  },
  {
   "cell_type": "code",
   "execution_count": 15,
   "metadata": {},
   "outputs": [
    {
     "name": "stdout",
     "output_type": "stream",
     "text": [
      "['SS81521 x Chrimson2', 'w1118 x SS81521']\n"
     ]
    }
   ],
   "source": [
    "openPath = \"C:\\\\Users\\\\User\\\\ACC Lab Dropbox\\\\ACC Lab\\\\Nicole Lee\\\\DATA\\\\OSAR\\\\unproc\\\\\"\n",
    "#openPath = \"C:\\\\Users\\\\lnico\\\\ACC Lab Dropbox\\\\ACC Lab\\\\Nicole Lee\\\\DATA\\\\OSAR\\\\Unprocessed\\\\\"\n",
    "files = os.listdir(openPath)\n",
    "\n",
    "print (files)\n"
   ]
  },
  {
   "cell_type": "code",
   "execution_count": 16,
   "metadata": {},
   "outputs": [
    {
     "name": "stdout",
     "output_type": "stream",
     "text": [
      "Finished renaming files!\n"
     ]
    }
   ],
   "source": [
    "#renames files\n",
    "\n",
    "for f in files:\n",
    "    \n",
    "    Path1 = openPath + f  #returns me E:\\20210905\\R58E02 x ACR --> also the file i want to save the new labels in           \n",
    "    ####################################\n",
    "    files2 = os.listdir(Path1)  #returns me EighthGreen, HalfGreen etc etc\n",
    "\n",
    "    for i in files2:    #EighthGreen\n",
    "        Path2 = Path1 + \"\\\\\" + i #returns me D:\\Nicole Lee - HDD\\PHD\\Firstsetofdataruns\\ACR x MB082C\\EighthGreen\n",
    "        #print(files2)\n",
    "        files3 = os.listdir(Path2)  #returns me countlog, execution, metadata etc\n",
    "        #print (files3)\n",
    "        \n",
    "        for j in files3: #opens each excel file\n",
    "            if j.startswith(\"CountLog\"):\n",
    "           # if j.startswith(\"CountLog\"):    \n",
    "                jj= os.path.splitext(j)[0]\n",
    "                renamed = jj + '_' + f + '_' + i + \".csv\"  #new file name\n",
    "                #print(renamed)\n",
    "                os.chdir(Path2)\n",
    "                cwd = os.getcwd()\n",
    "                #print (cwd)                \n",
    "                countlogfile = os.rename(j,renamed)\n",
    "                \n",
    "print (\"Finished renaming files!\")\n"
   ]
  },
  {
   "cell_type": "code",
   "execution_count": 17,
   "metadata": {},
   "outputs": [
    {
     "name": "stdout",
     "output_type": "stream",
     "text": [
      "Finished moving files!\n"
     ]
    }
   ],
   "source": [
    "#copying/moving files\n",
    "\n",
    "for f in files:\n",
    "    \n",
    "    Path1 = openPath + f  #returns me E:\\20210905\\R58E02 x ACR --> also the file i want to save the new labels in      \n",
    "    destination = openPath + f +\"\\\\countlog\"\n",
    "    isExist = os.path.exists(destination)\n",
    "    if not isExist:\n",
    "        os.makedirs(destination)\n",
    "    #print (destination)\n",
    "    ####################################\n",
    "    \n",
    "    files2 = os.listdir(Path1)  #returns me EighthGreen, HalfGreen etc etc\n",
    "\n",
    "    for i in files2:    #EighthGreen\n",
    "        Path2 = Path1 + \"\\\\\" + i #returns me D:\\Nicole Lee - HDD\\PHD\\Firstsetofdataruns\\ACR x MB082C\\EighthGreen\n",
    "        files3 = os.listdir(Path2)  #returns me countlog, execution, metadata etc\n",
    "        if i != \"countlog\":\n",
    "            for j in files3: #opens each excel file            \n",
    "                if j.startswith(\"CountLog\"):\n",
    "                    jj= os.path.splitext(j)[0]\n",
    "                    newfile = jj + \".csv\"\n",
    "                    #moving the file\n",
    "                    tempfile = Path1 + \"\\\\\" + i+ \"\\\\\" + newfile\n",
    "                    shutil.move(tempfile,destination)\n",
    "\n",
    "print (\"Finished moving files!\")"
   ]
  },
  {
   "cell_type": "code",
   "execution_count": null,
   "metadata": {},
   "outputs": [],
   "source": []
  }
 ],
 "metadata": {
  "kernelspec": {
   "display_name": "Python 3 (ipykernel)",
   "language": "python",
   "name": "python3"
  },
  "language_info": {
   "codemirror_mode": {
    "name": "ipython",
    "version": 3
   },
   "file_extension": ".py",
   "mimetype": "text/x-python",
   "name": "python",
   "nbconvert_exporter": "python",
   "pygments_lexer": "ipython3",
   "version": "3.10.9"
  }
 },
 "nbformat": 4,
 "nbformat_minor": 4
}
