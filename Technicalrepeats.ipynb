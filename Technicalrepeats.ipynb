{
 "cells": [
  {
   "cell_type": "code",
   "execution_count": 1,
   "id": "df2fe564-50e0-4b1f-be3d-77767b78f83f",
   "metadata": {},
   "outputs": [],
   "source": [
    "#import relevant libraries\n",
    "#Load modules\n",
    "import os\n",
    "import pandas as pd\n",
    "import numpy as np\n",
    "import matplotlib.mlab as mlab\n",
    "import matplotlib.pyplot as plt\n",
    "import seaborn as sns\n",
    "import dabest\n",
    "from datetime import datetime\n",
    "from matplotlib.dates import DateFormatter\n",
    "import matplotlib.dates as mdates\n",
    "from tqdm import tqdm\n",
    "from time import sleep\n",
    "import plotly.graph_objects as go\n",
    "from scipy.signal import find_peaks\n",
    "from numpy import genfromtxt\n",
    "from scipy import fftpack\n",
    "import scipy.stats as stats\n",
    "import scikits.bootstrap as skb\n",
    "from osar.plot_helpers.plot_helpers import r2_and_slope\n",
    "import scipy \n",
    "from struct import *\n",
    "import math\n",
    "import osar\n",
    "import sys\n",
    "import glob\n",
    "import scipy as sp\n",
    "from matplotlib import cm\n",
    "from matplotlib.colors import ListedColormap, LinearSegmentedColormap\n",
    "import re\n",
    "import warnings\n",
    "warnings.simplefilter(action=\"ignore\", category=RuntimeWarning)\n",
    "warnings.simplefilter(action=\"ignore\", category=FutureWarning)\n",
    "#warnings.simplefilter(action=\"default\", category=RuntimeWarning)"
   ]
  },
  {
   "cell_type": "code",
   "execution_count": 2,
   "id": "77618574-6e63-492b-9051-3eccba741f66",
   "metadata": {},
   "outputs": [],
   "source": [
    "def meandiffchart(dfi, basegenotype, parameter):\n",
    "    \n",
    "    dfr1 = pd.DataFrame()\n",
    "    for names in basegenotype:\n",
    "        dfrr = pd.DataFrame()\n",
    "        filter1 = dfi[(dfi['Repeats'] == names) & (dfi['status'] == 'Offspring')].copy().reset_index(drop=True)\n",
    "        filter2 = dfi[(dfi['status'] == 'Sibling')].copy().reset_index(drop=True)\n",
    "\n",
    "        dfrr[names + \" Cntrl\" ] = filter2[parameter]\n",
    "        dfrr[names] = filter1[parameter]\n",
    "        dfr1 = pd.concat([dfr1, dfrr], axis = 1)\n",
    "    l = dfr1.columns.tolist()\n",
    "    titlelst = list(zip(l,l[1:]))[::2]  \n",
    "    test = dabest.load(dfr1, idx=titlelst)\n",
    "    tab1 = test.mean_diff.statistical_tests\n",
    "    tab1['difference'] = round(tab1['difference'],3)\n",
    "    tab = pd.concat([tab1['test'], tab1['difference']], axis=1)\n",
    "    \n",
    "    genot = dfi['MBON'].unique().tolist()\n",
    "    \n",
    "    tab.rename(columns = {'test':'MBON > ' + str(genot), 'difference':parameter}, inplace = True)\n",
    "\n",
    "    return tab"
   ]
  },
  {
   "attachments": {},
   "cell_type": "markdown",
   "id": "3dfcdc20-5bf8-42b7-87a0-a5ee180d82ac",
   "metadata": {},
   "source": [
    "## __COMPUTER TYPE__"
   ]
  },
  {
   "cell_type": "code",
   "execution_count": 43,
   "id": "e8ff2eb2-02d4-4861-b841-1748f419e134",
   "metadata": {},
   "outputs": [],
   "source": [
    "typeo = \"C:\\\\Users\\\\user\\\\ACC Lab Dropbox\\\\ACC Lab\\\\Nicole Lee\\\\DATA\\\\Technical repeats\\\\Chrimson2\\\\\"\n",
    "\n",
    "genot = \"MB434B x Chrimson2\"\n",
    "\n",
    "typeob = typeo + genot + \"\\\\\"\n",
    "# typeob2 = typeo + genot2 + \"\\\\\""
   ]
  },
  {
   "cell_type": "markdown",
   "id": "e6fdf7a1",
   "metadata": {},
   "source": [
    "## __NEW DATA SET__"
   ]
  },
  {
   "cell_type": "code",
   "execution_count": 44,
   "id": "575e6cee",
   "metadata": {},
   "outputs": [
    {
     "name": "stdout",
     "output_type": "stream",
     "text": [
      "Creating borders for each fly...\n",
      "Done.\n",
      "\n",
      "Processing CSV 24 of 24\n",
      "Summarising results for all flies...\n",
      "All done.\n",
      "Creating borders for each fly...\n",
      "Done.\n",
      "\n",
      "Processing CSV 4 of 4\n",
      "Summarising results for all flies...\n",
      "All done.\n",
      "Creating borders for each fly...\n",
      "Done.\n",
      "\n",
      "Processing CSV 4 of 4\n",
      "Summarising results for all flies...\n",
      "All done.\n",
      "Creating borders for each fly...\n",
      "Done.\n",
      "\n",
      "Processing CSV 4 of 4\n",
      "Summarising results for all flies...\n",
      "All done.\n",
      "Creating borders for each fly...\n",
      "Done.\n",
      "\n",
      "Processing CSV 4 of 4\n",
      "Summarising results for all flies...\n",
      "All done.\n"
     ]
    }
   ],
   "source": [
    "#nicole's data (only run if no comp set)\n",
    "root = typeob\n",
    "startdir = os.listdir(root)\n",
    "baseDirectory=[]\n",
    "basegenotype=[]\n",
    "afterpass = []\n",
    "for n,sd in enumerate(startdir):\n",
    "    dir1 = os.path.join(root, os.listdir(root)[n])\n",
    "    baseDirectory.append(dir1)\n",
    "    basegenotype.append(re.search(r'^.*?(?= x )', (os.path.split(dir1)[1])).group(0))\n",
    "    afterpass.append(re.search(r'(?<=_).*', (os.path.split(dir1)[1])).group(0))\n",
    "            \n",
    "dfs=[]\n",
    "\n",
    "for loc,name, n in zip(baseDirectory,basegenotype, afterpass):\n",
    "    testing = pd.DataFrame()\n",
    "    testing = osar.osar(loc,driver = name).results\n",
    "    testing['Repeats'] = n\n",
    "    dfs.append(testing)\n"
   ]
  },
  {
   "cell_type": "code",
   "execution_count": 45,
   "id": "741bc0bd",
   "metadata": {},
   "outputs": [],
   "source": [
    "df=pd.concat(dfs)"
   ]
  },
  {
   "cell_type": "code",
   "execution_count": 41,
   "id": "489f265c",
   "metadata": {},
   "outputs": [],
   "source": [
    "# df=pd.concat(dfs)\n",
    "# filepath = typeo + str(genot) + \"_technicalrepeat.csv\"\n",
    "# #filepath = typeo + \"FarhanChrimson2compilation.csv\"\n",
    "# df.to_csv(filepath)\n"
   ]
  },
  {
   "attachments": {},
   "cell_type": "markdown",
   "id": "0e5a6230-d6c3-4875-b6d2-52e7e2aee65a",
   "metadata": {},
   "source": [
    "## __RUN THIS IF OLD DATA SET__"
   ]
  },
  {
   "cell_type": "code",
   "execution_count": 46,
   "id": "acaf12a7-9331-48b6-b9f0-c6272f2efcbb",
   "metadata": {},
   "outputs": [
    {
     "data": {
      "text/plain": [
       "array(['2022-03-21-1', '2022-03-25-1', '2022-03-28-1', '2022-05-09-1',\n",
       "       '2022-08-10-1'], dtype=object)"
      ]
     },
     "execution_count": 46,
     "metadata": {},
     "output_type": "execute_result"
    }
   ],
   "source": [
    "# filepath = typeo + str(genot) + \"_technicalrepeat.csv\"\n",
    "# dff= pd.read_csv(filepath)\n",
    "dff= df.copy()\n",
    "basegenotypeF = dff['Repeats'].unique()\n",
    "\n",
    "basegenotypeF"
   ]
  },
  {
   "cell_type": "code",
   "execution_count": 47,
   "id": "a7c2a8b5",
   "metadata": {},
   "outputs": [],
   "source": [
    "def makingof(df2, matchlist):\n",
    "    dfi=df2[(df2['light_intensity']=='Half') | (df2['light_intensity']=='Full')].copy()\n",
    "    dfi.replace([np.inf, -np.inf], np.nan, inplace=True)\n",
    "    dfi.rename(columns={'driver': 'MBON'}, inplace = True)\n",
    "    parameter = 'pi_smoothed_Pattern 01'\n",
    "    dfr1 = pd.DataFrame()\n",
    "        \n",
    "    for names in matchlist:\n",
    "        dfrr = pd.DataFrame()\n",
    "        filter1 = dfi[(dfi['Repeats'] == names) & (dfi['status'] == 'Offspring')].copy().reset_index(drop=True)\n",
    "        filter2 = dfi[dfi['status'] == 'Sibling'].copy().reset_index(drop=True)\n",
    "        \n",
    "        dfrr[names + \" Cntrl\" ] = filter2[parameter]\n",
    "        dfrr[names] = filter1[parameter]\n",
    "        dfr1 = pd.concat([dfr1, dfrr], axis = 1)\n",
    "    l = dfr1.columns.tolist()\n",
    "    titlelst = list(zip(l,l[1:]))[::2]    \n",
    "\n",
    "    valencemd = meandiffchart(dfi, matchlist, 'pi_smoothed_Pattern 01')\n",
    "    srmd = meandiffchart(dfi, matchlist, 'log2_speed_ratio_Pattern 01')\n",
    "    dfrtest = dfr1.copy()\n",
    "    valencemd2 = valencemd.sort_values('pi_smoothed_Pattern 01').reset_index(drop=True)\n",
    "    sorter = []\n",
    "    for n in valencemd2.iloc[:,0]:\n",
    "        sorter.append(n)\n",
    "\n",
    "    inverteddx = dict(titlelst)\n",
    "    dx = dict([(value, key) for key, value in inverteddx.items()])\n",
    "    sortedDict = list(map(lambda yVal: dx[yVal], sorter))\n",
    "    vvv = list(zip(sortedDict, sorter))\n",
    "    \n",
    "    test = dabest.load(dfr1, idx=vvv, ci=90)\n",
    "    \n",
    "    return test"
   ]
  },
  {
   "cell_type": "code",
   "execution_count": 48,
   "id": "f2b6203f",
   "metadata": {},
   "outputs": [
    {
     "name": "stderr",
     "output_type": "stream",
     "text": [
      "C:\\Users\\user\\AppData\\Local\\Temp\\ipykernel_24496\\2454194355.py:16: SettingWithCopyWarning: \n",
      "A value is trying to be set on a copy of a slice from a DataFrame.\n",
      "Try using .loc[row_indexer,col_indexer] = value instead\n",
      "\n",
      "See the caveats in the documentation: https://pandas.pydata.org/pandas-docs/stable/user_guide/indexing.html#returning-a-view-versus-a-copy\n",
      "  tab1['difference'] = round(tab1['difference'],3)\n"
     ]
    }
   ],
   "source": [
    "df2 = dff.copy()\n",
    "\n",
    "\n",
    "dfi=df2[(df2['light_intensity']=='Half') | (df2['light_intensity']=='Full')].copy()\n",
    "dfi.replace([np.inf, -np.inf], np.nan, inplace=True)\n",
    "dfi.rename(columns={'driver': 'MBON'}, inplace = True)\n",
    "parameter = 'pi_smoothed_Pattern 01'\n",
    "dfr1 = pd.DataFrame()   \n",
    "    \n",
    "for names in basegenotypeF:\n",
    "    dfrr = pd.DataFrame()\n",
    "    filter1 = dfi[(dfi['Repeats'] == names) & (dfi['status'] == 'Offspring')].copy().reset_index(drop=True)\n",
    "    filter2 = dfi[dfi['status'] == 'Sibling'].copy().reset_index(drop=True)\n",
    "    \n",
    "    dfrr[names + \" Cntrl\" ] = filter2[parameter]\n",
    "    dfrr[names] = filter1[parameter]\n",
    "    dfr1 = pd.concat([dfr1, dfrr], axis = 1)\n",
    "l = dfr1.columns.tolist()\n",
    "titlelst = list(zip(l,l[1:]))[::2]    \n",
    "\n",
    "valencemd = meandiffchart(dfi, basegenotypeF, 'pi_smoothed_Pattern 01')\n",
    "# srmd = meandiffchart(dfi, basegenotypeF, 'log2_speed_ratio_Pattern 01')\n",
    "# dfrtest = dfr1.copy()\n",
    "valencemd2 = valencemd.sort_values('pi_smoothed_Pattern 01').reset_index(drop=True)\n",
    "sorter = []\n",
    "for n in valencemd2.iloc[:,0]:\n",
    "    sorter.append(n)\n",
    "\n",
    "inverteddx = dict(titlelst)\n",
    "dx = dict([(value, key) for key, value in inverteddx.items()])\n",
    "sortedDict = list(map(lambda yVal: dx[yVal], sorter))\n",
    "vvv = list(zip(sortedDict, sorter))\n",
    "\n",
    "test = dabest.load(dfr1, idx=vvv, ci=90)\n",
    "\n"
   ]
  },
  {
   "cell_type": "code",
   "execution_count": 49,
   "id": "a8499da8",
   "metadata": {},
   "outputs": [
    {
     "data": {
      "text/html": [
       "<div>\n",
       "<style scoped>\n",
       "    .dataframe tbody tr th:only-of-type {\n",
       "        vertical-align: middle;\n",
       "    }\n",
       "\n",
       "    .dataframe tbody tr th {\n",
       "        vertical-align: top;\n",
       "    }\n",
       "\n",
       "    .dataframe thead th {\n",
       "        text-align: right;\n",
       "    }\n",
       "</style>\n",
       "<table border=\"1\" class=\"dataframe\">\n",
       "  <thead>\n",
       "    <tr style=\"text-align: right;\">\n",
       "      <th></th>\n",
       "      <th>Date</th>\n",
       "      <th>diff</th>\n",
       "    </tr>\n",
       "  </thead>\n",
       "  <tbody>\n",
       "    <tr>\n",
       "      <th>0</th>\n",
       "      <td>2022-03-25-1</td>\n",
       "      <td>-0.376</td>\n",
       "    </tr>\n",
       "    <tr>\n",
       "      <th>1</th>\n",
       "      <td>2022-05-09-1</td>\n",
       "      <td>-0.229</td>\n",
       "    </tr>\n",
       "    <tr>\n",
       "      <th>2</th>\n",
       "      <td>2022-03-21-1</td>\n",
       "      <td>-0.156</td>\n",
       "    </tr>\n",
       "    <tr>\n",
       "      <th>3</th>\n",
       "      <td>2022-08-10-1</td>\n",
       "      <td>-0.136</td>\n",
       "    </tr>\n",
       "    <tr>\n",
       "      <th>4</th>\n",
       "      <td>2022-03-28-1</td>\n",
       "      <td>-0.084</td>\n",
       "    </tr>\n",
       "  </tbody>\n",
       "</table>\n",
       "</div>"
      ],
      "text/plain": [
       "           Date   diff\n",
       "0  2022-03-25-1 -0.376\n",
       "1  2022-05-09-1 -0.229\n",
       "2  2022-03-21-1 -0.156\n",
       "3  2022-08-10-1 -0.136\n",
       "4  2022-03-28-1 -0.084"
      ]
     },
     "execution_count": 49,
     "metadata": {},
     "output_type": "execute_result"
    }
   ],
   "source": [
    "totaltest = pd.DataFrame()\n",
    "totaltest['Date'] = test.mean_diff.statistical_tests.test\n",
    "totaltest['diff'] = round(test.mean_diff.statistical_tests.difference, 3)\n",
    "\n",
    "totaltest"
   ]
  },
  {
   "cell_type": "code",
   "execution_count": 51,
   "id": "ade4cad3",
   "metadata": {},
   "outputs": [
    {
     "name": "stderr",
     "output_type": "stream",
     "text": [
      "c:\\Users\\user\\anaconda3\\lib\\site-packages\\dabest\\plotter.py:563: UserWarning: FixedFormatter should only be used together with FixedLocator\n",
      "  rawdata_axes.set_xticklabels(ticks_with_counts)\n"
     ]
    },
    {
     "data": {
      "image/png": "[encoded data removed]",
      "text/plain": [
       "<Figure size 1500x600 with 2 Axes>"
      ]
     },
     "metadata": {},
     "output_type": "display_data"
    }
   ],
   "source": [
    "import seaborn as sns\n",
    "\n",
    "plooter = test.mean_diff.plot(swarm_label= genot + \" PI\" , float_contrast=False, raw_marker_size=1, es_marker_size=5, custom_palette=\"Paired\", contrast_ylim=(-1,1)); \n",
    "\n",
    "#n_df.mean_diff.plot(swarm_label=\"PI of Nicole's data\" , float_contrast=False, raw_marker_size=1, es_marker_size=5, custom_palette=\"Paired\", contrast_ylim=(-1,1), ax=axx.flat[1]); \n",
    "plooter.text(0.23, 0.20, str(totaltest['diff'][0]), fontsize = 12, color = \"black\", ha = \"center\", va = \"center\") \n",
    "plooter.text(0.40, 0.20, str(totaltest['diff'][1]), fontsize = 12, color = \"black\", ha = \"center\", va = \"center\") \n",
    "plooter.text(0.57, 0.20, str(totaltest['diff'][2]), fontsize = 12, color = \"black\", ha = \"center\", va = \"center\") \n",
    "plooter.text(0.75, 0.20, str(totaltest['diff'][3]), fontsize = 12, color = \"black\", ha = \"center\", va = \"center\") \n",
    "plooter.text(0.87, 0.20, str(totaltest['diff'][4]), fontsize = 12, color = \"black\", ha = \"center\", va = \"center\") \n",
    "# plooter.text(0.85, 0.20, str(totaltest['diff'][5]), fontsize = 12, color = \"black\", ha = \"center\", va = \"center\") \n",
    "# plooter.text(0.80, 0.20, str(totaltest['diff'][6]), fontsize = 12, color = \"black\", ha = \"center\", va = \"center\") \n",
    "# plooter.text(0.90, 0.20, str(totaltest['diff'][7]), fontsize = 12, color = \"black\", ha = \"center\", va = \"center\") \n",
    "#plooter.text(0.87, 0.20, str(totaltest['diff'][8]), fontsize = 12, color = \"black\", ha = \"center\", va = \"center\") \n",
    "\n",
    "\n",
    "#plooter.text(0.85, 0.20, str(totaltest['diff'][5]), fontsize = 12, color = \"black\", ha = \"center\", va = \"center\") \n",
    "\n",
    "sns.set(font_scale=0.9)"
   ]
  }
 ],
 "metadata": {
  "kernelspec": {
   "display_name": "Python 3 (ipykernel)",
   "language": "python",
   "name": "python3"
  },
  "language_info": {
   "codemirror_mode": {
    "name": "ipython",
    "version": 3
   },
   "file_extension": ".py",
   "mimetype": "text/x-python",
   "name": "python",
   "nbconvert_exporter": "python",
   "pygments_lexer": "ipython3",
   "version": "3.10.9"
  }
 },
 "nbformat": 4,
 "nbformat_minor": 5
}
