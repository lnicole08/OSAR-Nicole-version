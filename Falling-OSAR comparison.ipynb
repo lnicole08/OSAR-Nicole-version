{
 "cells": [
  {
   "cell_type": "code",
   "execution_count": 1,
   "metadata": {},
   "outputs": [
    {
     "name": "stdout",
     "output_type": "stream",
     "text": [
      "Pre-compiling numba functions for DABEST...\n"
     ]
    },
    {
     "name": "stderr",
     "output_type": "stream",
     "text": [
      "Compiling numba functions: 100%|██████████| 11/11 [00:00<00:00, 16.18it/s]"
     ]
    },
    {
     "name": "stdout",
     "output_type": "stream",
     "text": [
      "Numba compilation complete!\n",
      "0.23.7\n"
     ]
    },
    {
     "name": "stderr",
     "output_type": "stream",
     "text": [
      "\n"
     ]
    }
   ],
   "source": [
    "import numpy as np\n",
    "import scipy as sp\n",
    "import pandas as pd\n",
    "import matplotlib as mpl\n",
    "import seaborn as sns\n",
    "import datetime as dt\n",
    "import matplotlib.pyplot as plt\n",
    "import dabest\n",
    "import osar\n",
    "\n",
    "#NOTE: SUPPRESSES WARNINGS!\n",
    "\n",
    "import warnings\n",
    "\n",
    "warnings.simplefilter(action=\"ignore\", category=RuntimeWarning)\n",
    "#warnings.simplefilter(action=\"default\", category=RuntimeWarning)\n",
    "\n",
    "print(osar.__version__)"
   ]
  },
  {
   "cell_type": "code",
   "execution_count": null,
   "metadata": {},
   "outputs": [],
   "source": [
    "basegenotype = \"SS95118\"\n",
    "responder = \"Chrimson2\"\n",
    "addNotes = basegenotype + \" x \" + responder\n",
    "\n",
    "\n",
    "officecomp = \"C:\\\\Users\\\\Star\\\\\"\n",
    "labcomp = \"C:\\\\Users\\\\User\\\\\"\n",
    "\n",
    "filedirectory_OSAR = \"ACC Lab Dropbox\\\\ACC Lab\\\\Nicole Lee\\\\DATA\\\\OSAR\\\\\"\n",
    "filedirectory_Falling = \"ACC Lab Dropbox\\\\ACC Lab\\\\Nicole Lee\\\\Data Compilation\\\\Falling_New\"\n",
    "\n",
    "baseDirectory_OSAR = filedirectory_OSAR + addNotes\n",
    "baseDirectory_Falling = filedirectory_Falling + addNotes\n",
    "\n",
    "\n",
    "#OSAR related files\n",
    "if len(addNotes) > 0:\n",
    "    addNotes = \"_\" + addNotes   \n",
    "filename = baseDirectory_OSAR + \"\\\\\" + basegenotype\n",
    "filename_AppendDT = \"_gen \" + dt.datetime.today().strftime('%Y-%m-%d')\n",
    "\n",
    "filename = filename + addNotes + filename_AppendDT\n",
    "\n",
    "filename"
   ]
  },
  {
   "cell_type": "markdown",
   "metadata": {},
   "source": [
    "# OSAR"
   ]
  },
  {
   "cell_type": "code",
   "execution_count": null,
   "metadata": {},
   "outputs": [],
   "source": [
    "#check for border shift\n",
    "osarAnalysis = osar.osar(baseDirectory_OSAR,\n",
    "                        # border_shift_mm = 1.5,  \n",
    "                        # countlog_folder = \"countlog_Full Only\",         \n",
    "                        # countlog_folder = \"countlog_Half and Full\",\n",
    "                         driver = basegenotype)"
   ]
  }
 ],
 "metadata": {
  "kernelspec": {
   "display_name": "osaronly",
   "language": "python",
   "name": "python3"
  },
  "language_info": {
   "codemirror_mode": {
    "name": "ipython",
    "version": 3
   },
   "file_extension": ".py",
   "mimetype": "text/x-python",
   "name": "python",
   "nbconvert_exporter": "python",
   "pygments_lexer": "ipython3",
   "version": "3.10.15"
  }
 },
 "nbformat": 4,
 "nbformat_minor": 2
}
