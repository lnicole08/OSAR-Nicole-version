{
 "cells": [
  {
   "cell_type": "code",
   "execution_count": 1,
   "metadata": {},
   "outputs": [],
   "source": [
    "import numpy as np\n",
    "import scipy as sp\n",
    "import pandas as pd\n",
    "import matplotlib as mpl\n",
    "import seaborn as sns\n",
    "import datetime as dt\n",
    "import matplotlib.pyplot as plt\n",
    "import dabest\n",
    "import osar\n",
    "\n",
    "#NOTE: SUPPRESSES WARNINGS!\n",
    "\n",
    "import warnings\n",
    "\n",
    "warnings.simplefilter(action=\"ignore\", category=RuntimeWarning)\n",
    "#warnings.simplefilter(action=\"default\", category=RuntimeWarning)"
   ]
  },
  {
   "cell_type": "code",
   "execution_count": 2,
   "metadata": {},
   "outputs": [
    {
     "data": {
      "text/plain": [
       "'D:\\\\ACC Lab Dropbox\\\\ACC Lab\\\\Nicole Lee\\\\DATA\\\\osar_test\\\\Special\\\\VT999036 x Chrimson2\\\\VT999036_VT999036 x Chrimson2_gen 2024-08-19'"
      ]
     },
     "execution_count": 2,
     "metadata": {},
     "output_type": "execute_result"
    }
   ],
   "source": [
    "basegenotype = \"VT999036\"\n",
    "responder = \"Chrimson2\"\n",
    "addNotes = basegenotype + \" x \" + responder\n",
    "#VT999036: Epoch 1\n",
    "#\n",
    "##CHECK DRIVE LETTER\n",
    "filedirectory = \"D:\\\\ACC Lab Dropbox\\\\ACC Lab\\\\Nicole Lee\\\\DATA\\\\osar_test\\\\Special\\\\\"\n",
    "\n",
    "baseDirectory = filedirectory + addNotes\n",
    "\n",
    "#### sets up filename for later - make sure this is correct\n",
    "\n",
    "if len(addNotes) > 0:\n",
    "    addNotes = \"_\" + addNotes   \n",
    "#filename = baseDirectory + \"/\" + str(baseDirectory).split(\"/\", -1)[-1][7:] \n",
    "filename = baseDirectory + \"\\\\\" + basegenotype\n",
    "filename_AppendDT = \"_gen \" + dt.datetime.today().strftime('%Y-%m-%d')\n",
    "\n",
    "##### use this if you need to set filename manually\n",
    "#filename = baseDirectory + \"/\" + \"201230 R58E02-LexA;VT999036-Gal4 x Dop2R-RNAi;LexAOP-Chrimson_Female\"\n",
    "\n",
    "filename = filename + addNotes + filename_AppendDT\n",
    "\n",
    "filename"
   ]
  },
  {
   "cell_type": "code",
   "execution_count": 3,
   "metadata": {},
   "outputs": [],
   "source": [
    "if responder == \"Chrimson2\":\n",
    "    light_color = \"deeppink\"\n",
    "    colors = \"Reds\"\n",
    "    \n",
    "if responder == \"ACR\":\n",
    "    light_color = \"dodgerblue\"\n",
    "    colors = \"Greens\""
   ]
  },
  {
   "cell_type": "code",
   "execution_count": 4,
   "metadata": {},
   "outputs": [
    {
     "name": "stdout",
     "output_type": "stream",
     "text": [
      "Creating borders for each fly...\n",
      "Done.\n",
      "\n",
      "Processing CSV 44 of 44\n",
      "Summarising results for all flies...\n",
      "All done.\n"
     ]
    }
   ],
   "source": [
    "#check for border shift\n",
    "osarAnalysis = osar.osar(baseDirectory,\n",
    "                        # border_shift_mm = 1.5,  \n",
    "                        # countlog_folder = \"countlog_Full Only\",         \n",
    "                        # countlog_folder = \"countlog_Half and Full\",\n",
    "                         driver = basegenotype)"
   ]
  },
  {
   "cell_type": "code",
   "execution_count": 5,
   "metadata": {},
   "outputs": [],
   "source": [
    "my_color_palette3 = {\"Eighth; Sibling\" : \"lightgray\",\n",
    "                      \"Eighth; Offspring\"    : light_color,\n",
    "                    \"Quarter; Sibling\" : \"lightgray\",\n",
    "                      \"Quarter; Offspring\"    : light_color, \n",
    "                     \"Half; Sibling\" : \"lightgray\",\n",
    "                      \"Half; Offspring\"    : light_color,\n",
    "                     \"Full; Sibling\" : \"lightgray\",\n",
    "                      \"Full; Offspring\"    : light_color\n",
    "                     }\n"
   ]
  },
  {
   "cell_type": "code",
   "execution_count": 18,
   "metadata": {},
   "outputs": [
    {
     "data": {
      "text/plain": [
       "flyid\n",
       "VT999036_Chrimson_w1118 x Chrimson2_Full_Sibling_2021-08-04_18-00-11_border6.0mm_fly1        -0.177596\n",
       "VT999036_Chrimson_w1118 x Chrimson2_Full_Sibling_2021-08-04_18-00-11_border6.0mm_fly2        -0.046448\n",
       "VT999036_Chrimson_w1118 x Chrimson2_Full_Sibling_2021-08-04_18-00-11_border6.0mm_fly3         0.524590\n",
       "VT999036_Chrimson_w1118 x Chrimson2_Full_Sibling_2021-08-04_18-00-11_border6.0mm_fly4        -0.065574\n",
       "VT999036_Chrimson_w1118 x Chrimson2_Full_Sibling_2021-08-04_18-00-11_border6.0mm_fly5        -1.000000\n",
       "                                                                                                ...   \n",
       "VT999036_Chrimson_VT999036 x Chrimson2_Full_Offspring_2021-09-17_13-06-25_border6.0mm_fly3   -1.000000\n",
       "VT999036_Chrimson_VT999036 x Chrimson2_Full_Offspring_2021-09-17_13-06-25_border6.0mm_fly4   -1.000000\n",
       "VT999036_Chrimson_VT999036 x Chrimson2_Full_Offspring_2021-09-17_13-06-25_border6.0mm_fly5   -0.891156\n",
       "VT999036_Chrimson_VT999036 x Chrimson2_Full_Offspring_2021-09-17_13-06-25_border6.0mm_fly6   -1.000000\n",
       "VT999036_Chrimson_VT999036 x Chrimson2_Full_Offspring_2021-09-17_13-06-25_border6.0mm_fly7   -1.000000\n",
       "Name: pi_smoothed_Pattern 01, Length: 154, dtype: float64"
      ]
     },
     "execution_count": 18,
     "metadata": {},
     "output_type": "execute_result"
    }
   ],
   "source": [
    "df2 = osarAnalysis.results\n",
    "dfi=df2[(df2['light_intensity']=='Full')].copy()\n",
    "dfi.replace([np.inf, -np.inf], np.nan, inplace=True)\n",
    "dfi.rename(columns={'driver': 'MBON'}, inplace = True)\n",
    "\n",
    "parameter = 'pi_smoothed_Pattern 01'\n",
    "#parameter = 'log2_speed_ratio_Pattern 01'\n",
    "\n",
    "if parameter == 'log2_speed_ratio_Pattern 01':\n",
    "    yaxi = 'Log2 Speed Ratio'\n",
    "else:\n",
    "    yaxi = 'PI'\n",
    "    \n",
    "dfr1 = pd.DataFrame()\n",
    "for names in basegenotype:\n",
    "    dfrr = pd.DataFrame()\n",
    "    filter1 = dfi[(dfi['MBON'] == names) & (dfi['status'] == 'Offspring')].copy().reset_index(drop=True)\n",
    "    filter2 = dfi[(dfi['MBON'] == names) & (dfi['status'] == 'Sibling')].copy().reset_index(drop=True)\n",
    "    \n",
    "    dfrr[names + \" Cntrl\" ] = filter2[parameter]\n",
    "    dfrr[names] = filter1[parameter]\n",
    "    dfr1 = pd.concat([dfr1, dfrr], axis = 1)"
   ]
  },
  {
   "cell_type": "code",
   "execution_count": 11,
   "metadata": {},
   "outputs": [
    {
     "ename": "AttributeError",
     "evalue": "'DataFrame' object has no attribute 'contrasts'",
     "output_type": "error",
     "traceback": [
      "\u001b[1;31m---------------------------------------------------------------------------\u001b[0m",
      "\u001b[1;31mAttributeError\u001b[0m                            Traceback (most recent call last)",
      "Cell \u001b[1;32mIn[11], line 2\u001b[0m\n\u001b[0;32m      1\u001b[0m fulight \u001b[38;5;241m=\u001b[39m osarAnalysis\u001b[38;5;241m.\u001b[39mresults[osarAnalysis\u001b[38;5;241m.\u001b[39mresults[\u001b[38;5;124m'\u001b[39m\u001b[38;5;124mlight_intensity\u001b[39m\u001b[38;5;124m'\u001b[39m] \u001b[38;5;241m==\u001b[39m \u001b[38;5;124m\"\u001b[39m\u001b[38;5;124mFull\u001b[39m\u001b[38;5;124m\"\u001b[39m]\n\u001b[1;32m----> 2\u001b[0m osarAnalysis_PI \u001b[38;5;241m=\u001b[39m \u001b[43mfulight\u001b[49m\u001b[38;5;241;43m.\u001b[39;49m\u001b[43mcontrasts\u001b[49m\u001b[38;5;241m.\u001b[39mpi\u001b[38;5;241m.\u001b[39mtime_spent_in_light(baseline_corrected\u001b[38;5;241m=\u001b[39m\u001b[38;5;124m\"\u001b[39m\u001b[38;5;124mFalse\u001b[39m\u001b[38;5;124m\"\u001b[39m, epoch\u001b[38;5;241m=\u001b[39m\u001b[38;5;124m'\u001b[39m\u001b[38;5;124mfirst\u001b[39m\u001b[38;5;124m'\u001b[39m)\n\u001b[0;32m      3\u001b[0m osarFig_PI_Meandiff \u001b[38;5;241m=\u001b[39m osarAnalysis_PI\u001b[38;5;241m.\u001b[39mmean_diff\u001b[38;5;241m.\u001b[39mplot(color_col\u001b[38;5;241m=\u001b[39m\u001b[38;5;124m'\u001b[39m\u001b[38;5;124mgenotype\u001b[39m\u001b[38;5;124m'\u001b[39m, \n\u001b[0;32m      4\u001b[0m                                swarm_ylim\u001b[38;5;241m=\u001b[39m(\u001b[38;5;241m-\u001b[39m\u001b[38;5;241m1.05\u001b[39m,\u001b[38;5;241m1.05\u001b[39m),\n\u001b[0;32m      5\u001b[0m                                contrast_ylim\u001b[38;5;241m=\u001b[39m(\u001b[38;5;241m-\u001b[39m\u001b[38;5;241m1.05\u001b[39m,\u001b[38;5;241m1.05\u001b[39m),\n\u001b[1;32m   (...)\u001b[0m\n\u001b[0;32m      9\u001b[0m                                swarm_label\u001b[38;5;241m=\u001b[39m\u001b[38;5;124m\"\u001b[39m\u001b[38;5;124mPI\u001b[39m\u001b[38;5;124m\"\u001b[39m,\n\u001b[0;32m     10\u001b[0m                                raw_marker_size\u001b[38;5;241m=\u001b[39m \u001b[38;5;241m2\u001b[39m )\n\u001b[0;32m     11\u001b[0m sns\u001b[38;5;241m.\u001b[39mset(font_scale\u001b[38;5;241m=\u001b[39m\u001b[38;5;241m0.5\u001b[39m)\n",
      "File \u001b[1;32mc:\\Users\\user\\anaconda3\\lib\\site-packages\\pandas\\core\\generic.py:5583\u001b[0m, in \u001b[0;36mNDFrame.__getattr__\u001b[1;34m(self, name)\u001b[0m\n\u001b[0;32m   5576\u001b[0m \u001b[38;5;28;01mif\u001b[39;00m (\n\u001b[0;32m   5577\u001b[0m     name \u001b[38;5;129;01mnot\u001b[39;00m \u001b[38;5;129;01min\u001b[39;00m \u001b[38;5;28mself\u001b[39m\u001b[38;5;241m.\u001b[39m_internal_names_set\n\u001b[0;32m   5578\u001b[0m     \u001b[38;5;129;01mand\u001b[39;00m name \u001b[38;5;129;01mnot\u001b[39;00m \u001b[38;5;129;01min\u001b[39;00m \u001b[38;5;28mself\u001b[39m\u001b[38;5;241m.\u001b[39m_metadata\n\u001b[0;32m   5579\u001b[0m     \u001b[38;5;129;01mand\u001b[39;00m name \u001b[38;5;129;01mnot\u001b[39;00m \u001b[38;5;129;01min\u001b[39;00m \u001b[38;5;28mself\u001b[39m\u001b[38;5;241m.\u001b[39m_accessors\n\u001b[0;32m   5580\u001b[0m     \u001b[38;5;129;01mand\u001b[39;00m \u001b[38;5;28mself\u001b[39m\u001b[38;5;241m.\u001b[39m_info_axis\u001b[38;5;241m.\u001b[39m_can_hold_identifiers_and_holds_name(name)\n\u001b[0;32m   5581\u001b[0m ):\n\u001b[0;32m   5582\u001b[0m     \u001b[38;5;28;01mreturn\u001b[39;00m \u001b[38;5;28mself\u001b[39m[name]\n\u001b[1;32m-> 5583\u001b[0m \u001b[38;5;28;01mreturn\u001b[39;00m \u001b[38;5;28;43mobject\u001b[39;49m\u001b[38;5;241;43m.\u001b[39;49m\u001b[38;5;21;43m__getattribute__\u001b[39;49m\u001b[43m(\u001b[49m\u001b[38;5;28;43mself\u001b[39;49m\u001b[43m,\u001b[49m\u001b[43m \u001b[49m\u001b[43mname\u001b[49m\u001b[43m)\u001b[49m\n",
      "\u001b[1;31mAttributeError\u001b[0m: 'DataFrame' object has no attribute 'contrasts'"
     ]
    }
   ],
   "source": [
    "fulight = osarAnalysis.results[osarAnalysis.results['light_intensity'] == \"Full\"]\n",
    "fulight = fulight['pi_smoothed_Pattern 01']\n",
    "osarFig_PI_Meandiff = osarAnalysis_PI.mean_diff.plot(color_col='genotype', \n",
    "                               swarm_ylim=(-1.05,1.05),\n",
    "                               contrast_ylim=(-1.05,1.05),\n",
    "                             custom_palette= colors,\n",
    "                               fig_size=(7,5),\n",
    "                               #fig_size=(10,7),\n",
    "                               swarm_label=\"PI\",\n",
    "                               raw_marker_size= 2 )\n",
    "sns.set(font_scale=0.5)\n",
    "osarAnalysis_PI.mean_diff"
   ]
  },
  {
   "cell_type": "code",
   "execution_count": null,
   "metadata": {},
   "outputs": [],
   "source": [
    "osarFig_PI_Meandiff.savefig(filename + '.png', bbox_inches=\"tight\", dpi=300)"
   ]
  },
  {
   "cell_type": "code",
   "execution_count": null,
   "metadata": {},
   "outputs": [],
   "source": [
    "speedratio2 = osarAnalysis.contrasts.log2_speed_ratio.light_speed_against_dark_speed(epoch='first')\n",
    "\n",
    "speedratio2.mean_diff.plot(raw_marker_size=2, custom_palette = my_color_palette3, legend_kwargs=None, fig_size=(7,5)\n",
    "                          )\n",
    "\n",
    "#, swarm_ylim = (-20, 10), contrast_ylim = (-1, 1)\n",
    "\n",
    "sns.set(font_scale=0.7, style='ticks')\n",
    "speedratio2.mean_diff"
   ]
  },
  {
   "cell_type": "code",
   "execution_count": 57,
   "metadata": {},
   "outputs": [],
   "source": [
    "osarFig_PI_Meandiff.savefig(filename + '.png', bbox_inches=\"tight\", dpi=300)"
   ]
  },
  {
   "cell_type": "code",
   "execution_count": null,
   "metadata": {},
   "outputs": [],
   "source": []
  }
 ],
 "metadata": {
  "kernelspec": {
   "display_name": "Python 3 (ipykernel)",
   "language": "python",
   "name": "python3"
  },
  "language_info": {
   "codemirror_mode": {
    "name": "ipython",
    "version": 3
   },
   "file_extension": ".py",
   "mimetype": "text/x-python",
   "name": "python",
   "nbconvert_exporter": "python",
   "pygments_lexer": "ipython3",
   "version": "3.10.9"
  }
 },
 "nbformat": 4,
 "nbformat_minor": 4
}
