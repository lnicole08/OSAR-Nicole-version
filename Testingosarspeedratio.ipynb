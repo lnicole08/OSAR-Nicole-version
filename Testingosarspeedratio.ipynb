{
 "cells": [
  {
   "cell_type": "code",
   "execution_count": 1,
   "metadata": {},
   "outputs": [
    {
     "name": "stdout",
     "output_type": "stream",
     "text": [
      "Pre-compiling numba functions for DABEST...\n"
     ]
    },
    {
     "name": "stderr",
     "output_type": "stream",
     "text": [
      "Compiling numba functions: 100%|██████████| 11/11 [00:00<00:00, 26.95it/s]"
     ]
    },
    {
     "name": "stdout",
     "output_type": "stream",
     "text": [
      "Numba compilation complete!\n"
     ]
    },
    {
     "name": "stderr",
     "output_type": "stream",
     "text": [
      "\n"
     ]
    }
   ],
   "source": [
    "#import relevant libraries\n",
    "#Load modules\n",
    "import os\n",
    "import pandas as pd\n",
    "import numpy as np\n",
    "import matplotlib.mlab as mlab\n",
    "import matplotlib.pyplot as plt\n",
    "import seaborn as sns\n",
    "#import dabest\n",
    "from struct import *\n",
    "import osar\n",
    "import scipy as sp\n",
    "import re\n",
    "import dabest\n",
    "#import dabest_nbdev\n",
    "# import dabest_jck\n",
    "import warnings\n",
    "from datetime import datetime\n",
    "import scikits.bootstrap as skb\n",
    "from osar.plot_helpers.plot_helpers import r2_and_slope\n",
    "\n",
    "date = datetime.today().strftime('%Y%m%d')\n",
    "warnings.simplefilter(action=\"ignore\", category=RuntimeWarning)\n",
    "warnings.simplefilter(action=\"ignore\", category=FutureWarning)\n",
    "\n",
    "import warnings\n",
    "warnings.filterwarnings(\"ignore\")\n"
   ]
  },
  {
   "cell_type": "code",
   "execution_count": 5,
   "metadata": {},
   "outputs": [
    {
     "data": {
      "text/plain": [
       "'D:\\\\ACC Lab Dropbox\\\\ACC Lab\\\\Nicole Lee\\\\DATA\\\\OSAR\\\\SS95118 x ACR\\\\SS95118_SS95118 x ACR_gen 20250115'"
      ]
     },
     "execution_count": 5,
     "metadata": {},
     "output_type": "execute_result"
    }
   ],
   "source": [
    "basegenotype = \"SS95118\"\n",
    "responder = \"ACR\"\n",
    "wt = \"w1118\"\n",
    "addNotes = basegenotype + \" x \" + responder\n",
    "\n",
    "\n",
    "officecomp = \"C:\\\\Users\\\\Star\\\\\"\n",
    "labcomp = \"C:\\\\Users\\\\User\\\\\"\n",
    "computer2 = \"C:\\\\Users\\\\lnico\\\\\"\n",
    "computer3 = \"D:\\\\\"\n",
    "filedirectory_OSAR = \"ACC Lab Dropbox\\\\ACC Lab\\\\Nicole Lee\\\\DATA\\\\OSAR\\\\\"\n",
    "specifiedpath = computer3\n",
    "baseDirectory_OSAR = specifiedpath + filedirectory_OSAR + addNotes\n",
    "\n",
    "\n",
    "#OSAR related files\n",
    "if len(addNotes) > 0:\n",
    "    addNotes = \"_\" + addNotes   \n",
    "filename_O = baseDirectory_OSAR + \"\\\\\" + basegenotype\n",
    "filename_AppendDT = \"_gen \" + date\n",
    "filename_O = filename_O + addNotes + filename_AppendDT\n",
    "\n",
    "filename_O"
   ]
  },
  {
   "cell_type": "code",
   "execution_count": 3,
   "metadata": {},
   "outputs": [],
   "source": [
    "def singleplottingdabest(dfi, names, parameter):\n",
    "    dfrr = pd.DataFrame()\n",
    "    filter1 = dfi[(dfi['status'] == 'Offspring')].copy().reset_index(drop=True)\n",
    "    filter2 = dfi[(dfi['status'] == 'Sibling')].copy().reset_index(drop=True)\n",
    "\n",
    "    dfrr[names + \" Cntrl\" ] = filter2[parameter]\n",
    "    dfrr[names] = filter1[parameter]\n",
    "    #dfr1 = pd.concat([dfr1, dfrr], axis = 1)\n",
    "        \n",
    "    l = dfrr.columns.tolist()\n",
    "    titlelst = list(zip(l,l[1:]))[::2]  \n",
    "    test = dabest.load(dfrr, idx=titlelst, ci=90)    \n",
    "    \n",
    "    return test"
   ]
  },
  {
   "cell_type": "code",
   "execution_count": 6,
   "metadata": {},
   "outputs": [
    {
     "name": "stdout",
     "output_type": "stream",
     "text": [
      "Creating borders for each fly...\n",
      "Done.\n",
      "\n",
      "Processing CSV 55 of 55\n",
      "Summarising results for all flies...\n",
      "All done.\n"
     ]
    }
   ],
   "source": [
    "osarAnalysis = osar.osar(baseDirectory_OSAR,\n",
    "                        # border_shift_mm = 1.5,  \n",
    "                        # countlog_folder = \"countlog_Full Only\",         \n",
    "                        # countlog_folder = \"countlog_Half and Full\",\n",
    "                         driver = basegenotype)"
   ]
  },
  {
   "cell_type": "code",
   "execution_count": 7,
   "metadata": {},
   "outputs": [
    {
     "data": {
      "image/png": "[encoded data removed]",
      "text/plain": [
       "<Figure size 300x600 with 2 Axes>"
      ]
     },
     "metadata": {},
     "output_type": "display_data"
    }
   ],
   "source": [
    "full_light = osarAnalysis.results[osarAnalysis.results['light_intensity'] == \"Full\"]\n",
    "singleplottingdabest(full_light, basegenotype,'log2_speed_ratio_Pattern 01').mean_diff.plot(float_contrast=False, fontsize_rawylabel=8, fontsize_rawxlabel=8, \n",
    "                                                                      fontsize_contrastxlabel=8, fontsize_contrastylabel=8, raw_marker_size=2, es_marker_size=6, \n",
    "                                                                      custom_palette=\"Paired\", swarm_label=\"Log2 speed ratio\", contrast_ylim=(-1.5,1.5));"
   ]
  },
  {
   "cell_type": "code",
   "execution_count": null,
   "metadata": {},
   "outputs": [],
   "source": []
  }
 ],
 "metadata": {
  "kernelspec": {
   "display_name": "osaronly",
   "language": "python",
   "name": "python3"
  },
  "language_info": {
   "codemirror_mode": {
    "name": "ipython",
    "version": 3
   },
   "file_extension": ".py",
   "mimetype": "text/x-python",
   "name": "python",
   "nbconvert_exporter": "python",
   "pygments_lexer": "ipython3",
   "version": "3.10.15"
  }
 },
 "nbformat": 4,
 "nbformat_minor": 2
}
